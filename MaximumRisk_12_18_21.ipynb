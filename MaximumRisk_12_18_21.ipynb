{
 "cells": [
  {
   "cell_type": "markdown",
   "metadata": {},
   "source": [
    "# Selecting Optimal Upgrades:\n",
    "## *Data Processing and Risk Assignment*"
   ]
  },
  {
   "cell_type": "code",
   "execution_count": 2,
   "metadata": {},
   "outputs": [],
   "source": [
    "###########\n",
    "## Setup ##\n",
    "###########\n",
    "\n",
    "import arcpy\n",
    "import os\n",
    "#aprx = arcpy.mp.ArcGISProject(r\"C:\\ArcGIS_Pro\\Conda\\Cloned_Envs\\Selecting_Optimal_Upgrades_RTS_GMLC\\Selecting_Optimal_Upgrades_RTS_GMLC.aprx\")\n",
    "#m = aprx.listMaps(\"Map\")[0]"
   ]
  },
  {
   "cell_type": "code",
   "execution_count": 3,
   "metadata": {
    "scrolled": true
   },
   "outputs": [],
   "source": [
    "#################################\n",
    "## Add RTSGMLC branches to map ##\n",
    "#################################\n",
    "\n",
    "# in_json_file = r\"C:\\Users\\sofie\\OneDrive\\Documents\\UW\\Research\\RTS GMLC Files\\RTS-GMLC-master\\RTS-GMLC-master\\RTS_Data\\FormattedData\\GIS\\branch.geojson\"\n",
    "# out_features = \"RTSGMLC_branch\"\n",
    "\n",
    "# arcpy.conversion.JSONToFeatures(in_json_file, out_features, \"POLYLINE\")\n",
    "\n",
    "# Be sure to delete transformers here"
   ]
  },
  {
   "cell_type": "code",
   "execution_count": 4,
   "metadata": {},
   "outputs": [
    {
     "ename": "ExecuteError",
     "evalue": "Failed to execute. Parameters are not valid.\nERROR 000732: Input Features: Dataset RTSGMLC_branch does not exist or is not supported\nFailed to execute (GeneratePointsAlongLines).\n",
     "output_type": "error",
     "traceback": [
      "\u001b[0;31m---------------------------------------------------------------------------\u001b[0m\n\u001b[0;31mExecuteError\u001b[0m                              Traceback (most recent call last)",
      "In  \u001b[0;34m[4]\u001b[0m:\nLine \u001b[0;34m2\u001b[0m:     arcpy.GeneratePointsAlongLines_management(\u001b[33m\"\u001b[39;49;00m\u001b[33mRTSGMLC_branch\u001b[39;49;00m\u001b[33m\"\u001b[39;49;00m, \u001b[33m\"\u001b[39;49;00m\u001b[33mRTSGMLC_branch_10km_pts.shp\u001b[39;49;00m\u001b[33m\"\u001b[39;49;00m, \u001b[33m'\u001b[39;49;00m\u001b[33mDISTANCE\u001b[39;49;00m\u001b[33m'\u001b[39;49;00m, Distance=\u001b[33m'\u001b[39;49;00m\u001b[33m10 kilometers\u001b[39;49;00m\u001b[33m'\u001b[39;49;00m)\n",
      "File \u001b[0;34mC:\\Program Files\\ArcGIS\\Pro\\Resources\\ArcPy\\arcpy\\management.py\u001b[0m, in \u001b[0;32mGeneratePointsAlongLines\u001b[0m:\nLine \u001b[0;34m21644\u001b[0m: \u001b[34mraise\u001b[39;49;00m e\n",
      "File \u001b[0;34mC:\\Program Files\\ArcGIS\\Pro\\Resources\\ArcPy\\arcpy\\management.py\u001b[0m, in \u001b[0;32mGeneratePointsAlongLines\u001b[0m:\nLine \u001b[0;34m21641\u001b[0m: retval = convertArcObjectToPythonObject(gp.GeneratePointsAlongLines_management(*gp_fixargs((Input_Features, Output_Feature_Class, Point_Placement, Distance, Percentage, Include_End_Points), \u001b[34mTrue\u001b[39;49;00m)))\n",
      "File \u001b[0;34mC:\\Program Files\\ArcGIS\\Pro\\Resources\\ArcPy\\arcpy\\geoprocessing\\_base.py\u001b[0m, in \u001b[0;32m<lambda>\u001b[0m:\nLine \u001b[0;34m512\u001b[0m:   \u001b[34mreturn\u001b[39;49;00m \u001b[34mlambda\u001b[39;49;00m *args: val(*gp_fixargs(args, \u001b[34mTrue\u001b[39;49;00m))\n",
      "\u001b[0;31mExecuteError\u001b[0m: Failed to execute. Parameters are not valid.\nERROR 000732: Input Features: Dataset RTSGMLC_branch does not exist or is not supported\nFailed to execute (GeneratePointsAlongLines).\n\n\u001b[0;31m---------------------------------------------------------------------------\u001b[0m"
     ]
    }
   ],
   "source": [
    "# Split lines into 10km segments\n",
    "arcpy.GeneratePointsAlongLines_management(\"RTSGMLC_branch\", \"RTSGMLC_branch_10km_pts.shp\", 'DISTANCE', Distance='10 kilometers')\n",
    "arcpy.SplitLineAtPoint_management(\"RTSGMLC_branch\", \"RTSGMLC_branch_10km_pts.shp\", \"RTSGMLC_branch_10km.shp\", \"0.1 Meters\")"
   ]
  },
  {
   "cell_type": "code",
   "execution_count": 2,
   "metadata": {},
   "outputs": [
    {
     "data": {
      "text/html": [
       "<h2>Output</h2>C:\\ArcGIS_Pro\\Conda\\Cloned_Envs\\Selecting_Optimal_Upgrades_RTS_GMLC\\GeoGrid_CA_branch_10km.shp<h2>Messages</h2>Start Time: Thursday, September 2, 2021 2:12:11 PM<br/>Succeeded at Thursday, September 2, 2021 2:12:19 PM (Elapsed Time: 8.17 seconds)<br/><style>.rendered_html td, .rendered_html th {text-align: left;}.rendered_html tbody {border: 1px solid black;}</style>"
      ],
      "text/plain": [
       "<Result 'C:\\\\ArcGIS_Pro\\\\Conda\\\\Cloned_Envs\\\\Selecting_Optimal_Upgrades_RTS_GMLC\\\\GeoGrid_CA_branch_10km.shp'>"
      ]
     },
     "execution_count": 2,
     "metadata": {},
     "output_type": "execute_result"
    }
   ],
   "source": [
    "# Split lines into 10km segments\n",
    "arcpy.GeneratePointsAlongLines_management(\"TL_8_16_21\", \"GeoGrid_CA_branch_10km_pts.shp\", 'DISTANCE', Distance='10 kilometers')\n",
    "arcpy.SplitLineAtPoint_management(\"TL_8_16_21\", \"GeoGrid_CA_branch_10km_pts.shp\", \"GeoGrid_CA_branch_10km.shp\", \"0.1 Meters\")"
   ]
  },
  {
   "cell_type": "code",
   "execution_count": 3,
   "metadata": {},
   "outputs": [
    {
     "data": {
      "text/html": [
       "<h2>Output</h2>C:\\ArcGIS_Pro\\Conda\\Cloned_Envs\\Selecting_Optimal_Upgrades_RTS_GMLC\\RTSGMLC_branch_1km.shp<h2>Messages</h2>Start Time: Friday, August 27, 2021 1:11:50 PM<br/>Succeeded at Friday, August 27, 2021 1:11:54 PM (Elapsed Time: 3.69 seconds)<br/><style>.rendered_html td, .rendered_html th {text-align: left;}.rendered_html tbody {border: 1px solid black;}</style>"
      ],
      "text/plain": [
       "<Result 'C:\\\\ArcGIS_Pro\\\\Conda\\\\Cloned_Envs\\\\Selecting_Optimal_Upgrades_RTS_GMLC\\\\RTSGMLC_branch_1km.shp'>"
      ]
     },
     "execution_count": 3,
     "metadata": {},
     "output_type": "execute_result"
    }
   ],
   "source": [
    "# Split lines into 1km segments\n",
    "arcpy.GeneratePointsAlongLines_management(\"RTSGMLC_branch\", \"RTSGMLC_branch_1km_pts.shp\", 'DISTANCE', Distance='1 kilometers')\n",
    "arcpy.SplitLineAtPoint_management(\"RTSGMLC_branch\", \"RTSGMLC_branch_1km_pts.shp\", \"RTSGMLC_branch_1km.shp\", \"0.1 Meters\")"
   ]
  },
  {
   "cell_type": "code",
   "execution_count": 3,
   "metadata": {},
   "outputs": [
    {
     "data": {
      "text/html": [
       "<h2>Output</h2>C:\\ArcGIS_Pro\\Conda\\Cloned_Envs\\Selecting_Optimal_Upgrades_RTS_GMLC\\GeoGrid_CA_branch_1km.shp<h2>Messages</h2>Start Time: Thursday, September 2, 2021 2:14:28 PM<br/>Succeeded at Thursday, September 2, 2021 2:15:57 PM (Elapsed Time: 1 minutes 29 seconds)<br/><style>.rendered_html td, .rendered_html th {text-align: left;}.rendered_html tbody {border: 1px solid black;}</style>"
      ],
      "text/plain": [
       "<Result 'C:\\\\ArcGIS_Pro\\\\Conda\\\\Cloned_Envs\\\\Selecting_Optimal_Upgrades_RTS_GMLC\\\\GeoGrid_CA_branch_1km.shp'>"
      ]
     },
     "execution_count": 3,
     "metadata": {},
     "output_type": "execute_result"
    }
   ],
   "source": [
    "# Split lines into 1km segments\n",
    "arcpy.GeneratePointsAlongLines_management(\"TL_8_16_21\", \"GeoGrid_CA_branch_1km_pts.shp\", 'DISTANCE', Distance='1 kilometers')\n",
    "arcpy.SplitLineAtPoint_management(\"TL_8_16_21\", \"GeoGrid_CA_branch_1km_pts.shp\", \"GeoGrid_CA_branch_1km.shp\", \"0.1 Meters\")"
   ]
  },
  {
   "cell_type": "code",
   "execution_count": 14,
   "metadata": {
    "scrolled": false
   },
   "outputs": [
    {
     "name": "stdout",
     "output_type": "stream",
     "text": [
      "--- 350.7768943309784 seconds ---\n"
     ]
    }
   ],
   "source": [
    "#######################\n",
    "## Process WFPI Data ##\n",
    "#######################\n",
    "\n",
    "# Specify start and end dates for WFPI maps\n",
    "start_date = datetime.date(2021, 10, 14)\n",
    "end_date = datetime.date(2021, 10, 15) # end date is one day after you want to end\n",
    "delta = datetime.timedelta(days=1)\n",
    "\n",
    "date = start_date\n",
    "\n",
    "# Start program timer\n",
    "start_time = time.time()\n",
    "\n",
    "while date < end_date:\n",
    "    num = date.strftime(\"%Y%m%d\")\n",
    "    \n",
    "#     ##########################\n",
    "#     ## Add WFPI data to map ##\n",
    "#     ##########################\n",
    "\n",
    "#     path = rf'C:\\Users\\lucas\\Documents\\ArcGIS\\Projects\\LFranke_WISPO_Proj\\Former_Missing_Dates\\emodis_wfpi_data_{num}_{num}.tiff'\n",
    "#     arcpy.MakeRasterLayer_management(path, f\"wfpi_{num}_tiff\")\n",
    "#     arcpy.Clip_management(f\"wfpi_{num}_tiff\", \"-2051218 -2120000 20000 40000\", f\"wfpi_{num}_clipped_tiff\", \"#\", \"#\", \"NONE\", \"NO_MAINTAIN_EXTENT\")\n",
    "\n",
    "#     #########################################\n",
    "#     ## Convert WFPI from Raster to Polygon ##\n",
    "#     #########################################\n",
    "\n",
    "#     arcpy.RasterToPolygon_conversion(f\"wfpi_{num}_tiff\", f\"wfpi_{num}.shp\", \"NO_SIMPLIFY\", \"VALUE\")\n",
    "\n",
    "#     #################################################\n",
    "#     ## Modify gridcodes that indicate no fire risk ##\n",
    "#     #################################################\n",
    "#     # The WFPI data gridcodes of 248 and above indicate unburnable land. \n",
    "#     # We will change them to be negative values.\n",
    "\n",
    "#     cursor = arcpy.UpdateCursor(f\"wfpi_{num}.shp\")\n",
    "#     for row in cursor: \n",
    "#         if row.getValue(\"gridcode\") >= 248:\n",
    "#             row.setValue(\"gridcode\", 0)\n",
    "#             cursor.updateRow(row)\n",
    "\n",
    "    ##########################\n",
    "    ## Add WFPI data to map ##\n",
    "    ##########################\n",
    "\n",
    "    path = rf'C:\\Users\\lucas\\Documents\\ArcGIS\\Projects\\LFranke_WISPO_Proj\\Former_Missing_Dates\\emodis-wfpi_data_{num}_{num}.tiff'\n",
    "    arcpy.MakeRasterLayer_management(path, f\"wfpi_{num}_tiff\")\n",
    "    arcpy.Clip_management(f\"wfpi_{num}_tiff\", \"-2051218 -2120000 20000 40000\", f\"wfpi_{num}_clipped_tiff\", \"#\", \"#\", \"NONE\", \"NO_MAINTAIN_EXTENT\")\n",
    "\n",
    "    #########################################\n",
    "    ## Convert WFPI from Raster to Polygon ##\n",
    "    #########################################\n",
    "\n",
    "    arcpy.RasterToPolygon_conversion(f\"wfpi_{num}_tiff\", f\"wfpi_{num}.shp\", \"NO_SIMPLIFY\", \"VALUE\")\n",
    "\n",
    "    #################################################\n",
    "    ## Modify gridcodes that indicate no fire risk ##\n",
    "    #################################################\n",
    "    # The WFPI data gridcodes of 248 and above indicate unburnable land. \n",
    "    # We will change them to be negative values.\n",
    "\n",
    "    cursor = arcpy.UpdateCursor(f\"wfpi_{num}.shp\")\n",
    "    for row in cursor: \n",
    "        if row.getValue(\"gridcode\") >= 248:\n",
    "            row.setValue(\"gridcode\", 0)\n",
    "            cursor.updateRow(row)\n",
    "        \n",
    "                \n",
    "    # Go to next day\n",
    "    #if (num == '20210602') or (num == '20210607') or (num == '20211007') or (num == '20211010') or (num == '20211014') and (num >= '20210601'):\n",
    "    date += delta\n",
    "    \n",
    "print(\"--- %s seconds ---\" % (time.time() - start_time))"
   ]
  },
  {
   "cell_type": "code",
   "execution_count": 16,
   "metadata": {
    "scrolled": false
   },
   "outputs": [
    {
     "name": "stdout",
     "output_type": "stream",
     "text": [
      "--- 63.27708578109741 seconds ---\n"
     ]
    }
   ],
   "source": [
    "#####################################\n",
    "## Assign Risk to RTSGMLC branches ##\n",
    "#####################################\n",
    "\n",
    "import os\n",
    "\n",
    "# Specify start and end dates for WFPI maps\n",
    "date_vector  = [datetime.date(2021, 6, 2), datetime.date(2021, 6, 7), datetime.date(2021, 10, 7), datetime.date(2021, 10, 10), datetime.date(2021, 10, 14)]\n",
    "start_date = datetime.date(2021, 6, 2)\n",
    "end_date = datetime.date(2022, 6, 3)\n",
    "delta = datetime.timedelta(days=1)\n",
    "\n",
    "# date = start_date\n",
    "\n",
    "# Start program timer\n",
    "start_time = time.time()\n",
    "\n",
    "for date in date_vector:\n",
    "    num = date.strftime(\"%Y%m%d\")\n",
    "    \n",
    "    #####################################################\n",
    "    ## Assign max WFPI risk value to RTS-GMLC branches ##\n",
    "    #####################################################\n",
    "\n",
    "    pace = r\"C:\\Users\\lucas\\Documents\\ArcGIS\\Projects\\LFranke_WISPO_Proj\"\n",
    "    target_features = \"branch_JSONToFeatures\"\n",
    "#         if date == start_date:\n",
    "#             target_features = \"branch_JSONToFeatures\"\n",
    "#         else:\n",
    "#             prev_date = date - delta\n",
    "#             prevnum = prev_date.strftime(\"%Y%m%d\")\n",
    "#             target_features = f\"RTSGMLC_Max_1km_{prevnum}\"\n",
    "\n",
    "    join_features = os.path.join(pace, f\"wfpi_{num}.shp\")\n",
    "    out_fc = f\"RTSGMLC_Max_1km_{num}\"\n",
    "\n",
    "    # Field mappings specify how attributes from both classes will be combined in the output\n",
    "    fieldmappings = arcpy.FieldMappings()\n",
    "    fieldmappings.addTable(target_features)\n",
    "    fieldmappings.addTable(join_features)\n",
    "\n",
    "    gridcodeFieldIndex = fieldmappings.findFieldMapIndex(\"gridcode\")\n",
    "    fieldmap = fieldmappings.getFieldMap(gridcodeFieldIndex)\n",
    "\n",
    "    field = fieldmap.outputField\n",
    "\n",
    "    field.name = f\"max_WFPI_{num}\"\n",
    "    field.aliasName = f\"max_WFPI_{num}\"\n",
    "    fieldmap.outputField = field\n",
    "\n",
    "    fieldmap.mergeRule = \"Max\"\n",
    "    fieldmappings.replaceFieldMap(gridcodeFieldIndex, fieldmap)\n",
    "\n",
    "    # Delete fields that are no longer applicable\n",
    "    x = fieldmappings.findFieldMapIndex(\"Id\")\n",
    "    fieldmappings.removeFieldMap(x)\n",
    "\n",
    "    arcpy.analysis.SpatialJoin(target_features, join_features, out_fc, \"#\", \"#\", fieldmappings)\n",
    "    # Go to next day\n",
    "    #date += delta\n",
    "    \n",
    "print(\"--- %s seconds ---\" % (time.time() - start_time))"
   ]
  },
  {
   "cell_type": "code",
   "execution_count": 17,
   "metadata": {},
   "outputs": [
    {
     "ename": "SyntaxError",
     "evalue": "(unicode error) 'unicodeescape' codec can't decode bytes in position 2-3: truncated \\UXXXXXXXX escape (<string>, line 24)",
     "output_type": "error",
     "traceback": [
      "\u001b[0;31m---------------------------------------------------------------------------\u001b[0m\n\u001b[0;31mSyntaxError\u001b[0m                               Traceback (most recent call last)",
      "File \u001b[0;34mC:\\Program Files\\ArcGIS\\Pro\\bin\\Python\\envs\\arcgispro-py3\\lib\\ast.py\u001b[0m, in \u001b[0;32mparse\u001b[0m:\nLine \u001b[0;34m35\u001b[0m:    \u001b[34mreturn\u001b[39;49;00m \u001b[36mcompile\u001b[39;49;00m(source, filename, mode, PyCF_ONLY_AST)\n",
      "\u001b[0;31mSyntaxError\u001b[0m: (unicode error) 'unicodeescape' codec can't decode bytes in position 2-3: truncated \\UXXXXXXXX escape (<string>, line 24)\n\u001b[0;31m---------------------------------------------------------------------------\u001b[0m"
     ]
    }
   ],
   "source": [
    "### Convert risk into analyzable tables ###\n",
    "\n",
    "import os\n",
    "import arcpy\n",
    "\n",
    "# Specify start and end dates for WFPI maps\n",
    "date_vector  = [datetime.date(2021, 6, 2), datetime.date(2021, 6, 7), datetime.date(2021, 10, 7), datetime.date(2021, 10, 10), datetime.date(2021, 10, 14)]\n",
    "start_date = datetime.date(2021, 1, 1)\n",
    "end_date = datetime.date(2021, 1, 2)\n",
    "delta = datetime.timedelta(days=1)\n",
    "\n",
    "date = start_date\n",
    "\n",
    "# Start program timer\n",
    "start_time = time.time()\n",
    "\n",
    "for date in date_vector:\n",
    "    num = date.strftime(\"%Y%m%d\")\n",
    "    \n",
    "    ##########################\n",
    "    ## Convert Risk to Table and Export ##\n",
    "    ##########################\n",
    "    arcpy.env.workplace =  r\"C:\\Users\\lucas\\Documents\\ArcGIS\\Projects\\LFranke_WISPO_Proj\"\n",
    "    arcpy.TableToTable_conversion(f\"RTSGMLCs_Max_1km_{num}\", \"C:\\Users\\lucas\\Documents\\ArcGIS\\Projects\\LFranke_WISPO_Proj\\Default.gdb\", f\"Risk_Table_{num}\")\n",
    "\n",
    "#     # Skip these missing dates\n",
    "#     if (num != '20210602') and (num != '20210607') and (num != '20211007'):\n",
    "\n",
    "        \n",
    "                \n",
    "#     # Go to next day\n",
    "#     date += delta\n",
    "    \n",
    "print(\"--- %s seconds ---\" % (time.time() - start_time))"
   ]
  },
  {
   "cell_type": "code",
   "execution_count": 2,
   "metadata": {},
   "outputs": [
    {
     "ename": "ExecuteError",
     "evalue": "ERROR 999999: Something unexpected caused the tool to fail. Contact Esri Technical Support (http://esriurl.com/support) to Report a Bug, and refer to the error help for potential solutions or workarounds.\nFailed to execute (SpatialJoin).\n",
     "output_type": "error",
     "traceback": [
      "\u001b[0;31m---------------------------------------------------------------------------\u001b[0m\n\u001b[0;31mExecuteError\u001b[0m                              Traceback (most recent call last)",
      "In  \u001b[0;34m[2]\u001b[0m:\nLine \u001b[0;34m52\u001b[0m:    arcpy.analysis.SpatialJoin(target_features, join_features, out_fc, \u001b[33m\"\u001b[39;49;00m\u001b[33m#\u001b[39;49;00m\u001b[33m\"\u001b[39;49;00m, \u001b[33m\"\u001b[39;49;00m\u001b[33m#\u001b[39;49;00m\u001b[33m\"\u001b[39;49;00m, fieldmappings)\n",
      "File \u001b[0;34mC:\\Program Files\\ArcGIS\\Pro\\Resources\\ArcPy\\arcpy\\analysis.py\u001b[0m, in \u001b[0;32mSpatialJoin\u001b[0m:\nLine \u001b[0;34m780\u001b[0m:   \u001b[34mraise\u001b[39;49;00m e\n",
      "File \u001b[0;34mC:\\Program Files\\ArcGIS\\Pro\\Resources\\ArcPy\\arcpy\\analysis.py\u001b[0m, in \u001b[0;32mSpatialJoin\u001b[0m:\nLine \u001b[0;34m777\u001b[0m:   retval = convertArcObjectToPythonObject(gp.SpatialJoin_analysis(*gp_fixargs((target_features, join_features, out_feature_class, join_operation, join_type, field_mapping, match_option, search_radius, distance_field_name), \u001b[34mTrue\u001b[39;49;00m)))\n",
      "File \u001b[0;34mC:\\Program Files\\ArcGIS\\Pro\\Resources\\ArcPy\\arcpy\\geoprocessing\\_base.py\u001b[0m, in \u001b[0;32m<lambda>\u001b[0m:\nLine \u001b[0;34m512\u001b[0m:   \u001b[34mreturn\u001b[39;49;00m \u001b[34mlambda\u001b[39;49;00m *args: val(*gp_fixargs(args, \u001b[34mTrue\u001b[39;49;00m))\n",
      "\u001b[0;31mExecuteError\u001b[0m: ERROR 999999: Something unexpected caused the tool to fail. Contact Esri Technical Support (http://esriurl.com/support) to Report a Bug, and refer to the error help for potential solutions or workarounds.\nFailed to execute (SpatialJoin).\n\n\u001b[0;31m---------------------------------------------------------------------------\u001b[0m"
     ]
    }
   ],
   "source": [
    "# Specify start and end dates for WFPI maps\n",
    "start_date = datetime.date(2021, 8, 21)\n",
    "end_date = datetime.date(2021, 9, 1)\n",
    "delta = datetime.timedelta(days=1)\n",
    "\n",
    "date = start_date\n",
    "\n",
    "# Start program timer\n",
    "start_time = time.time()\n",
    "\n",
    "while date < end_date:\n",
    "# for num in range(startnum, endnum+1):\n",
    "    num = date.strftime(\"%Y%m%d\")\n",
    "\n",
    "    #######################################################\n",
    "    ## Assign max WFPI risk value to GeoGrid-CA branches ##\n",
    "    #######################################################\n",
    "\n",
    "    workspace = r\"C:\\ArcGIS_Pro\\Conda\\Cloned_Envs\\Selecting_Optimal_Upgrades_RTS_GMLC\"\n",
    "\n",
    "    #if date == start_date:\n",
    "    #    target_features = \"GeoGridCA_1km\"\n",
    "    #else:\n",
    "    prev_date = date - delta\n",
    "    prevnum = prev_date.strftime(\"%Y%m%d\")\n",
    "    target_features = f\"GeoGridCA_Max_1km_{prevnum}\"\n",
    "\n",
    "    join_features = os.path.join(workspace, f\"wfpi_{num}.shp\")\n",
    "    out_fc = f\"GeoGridCA_Max_1km_{num}\"\n",
    "\n",
    "    # Field mappings specify how attributes from both classes will be combined in the output\n",
    "    fieldmappings = arcpy.FieldMappings()\n",
    "    fieldmappings.addTable(target_features)\n",
    "    fieldmappings.addTable(join_features)\n",
    "\n",
    "    gridcodeFieldIndex = fieldmappings.findFieldMapIndex(\"gridcode\")\n",
    "    fieldmap = fieldmappings.getFieldMap(gridcodeFieldIndex)\n",
    "\n",
    "    field = fieldmap.outputField\n",
    "\n",
    "    field.name = f\"max_WFPI_{num}\"\n",
    "    field.aliasName = f\"max_WFPI_{num}\"\n",
    "    fieldmap.outputField = field\n",
    "\n",
    "    fieldmap.mergeRule = \"Max\"\n",
    "    fieldmappings.replaceFieldMap(gridcodeFieldIndex, fieldmap)\n",
    "\n",
    "    # Delete fields that are no longer applicable\n",
    "    x = fieldmappings.findFieldMapIndex(\"Id\")\n",
    "    fieldmappings.removeFieldMap(x)\n",
    "\n",
    "    arcpy.analysis.SpatialJoin(target_features, join_features, out_fc, \"#\", \"#\", fieldmappings)\n",
    "\n",
    "    # Go to next day\n",
    "    date += delta\n",
    "    \n",
    "print(\"--- %s seconds ---\" % (time.time() - start_time))"
   ]
  },
  {
   "cell_type": "code",
   "execution_count": 6,
   "metadata": {},
   "outputs": [
    {
     "ename": "AttributeError",
     "evalue": "'str' object has no attribute 'gridcode'",
     "output_type": "error",
     "traceback": [
      "\u001b[0;31m---------------------------------------------------------------------------\u001b[0m\n\u001b[0;31mAttributeError\u001b[0m                            Traceback (most recent call last)",
      "In  \u001b[0;34m[6]\u001b[0m:\nLine \u001b[0;34m1\u001b[0m:     \u001b[33m\"\u001b[39;49;00m\u001b[33mRTSGMLC_Cm_NoSgmt_20210701\u001b[39;49;00m\u001b[33m\"\u001b[39;49;00m.gridcode[\u001b[34m1\u001b[39;49;00m]\n",
      "\u001b[0;31mAttributeError\u001b[0m: 'str' object has no attribute 'gridcode'\n\u001b[0;31m---------------------------------------------------------------------------\u001b[0m"
     ]
    }
   ],
   "source": [
    "table = \n",
    "\"RTSGMLC_Cm_NoSgmt_20210701\".gridcode[1]"
   ]
  },
  {
   "cell_type": "code",
   "execution_count": null,
   "metadata": {},
   "outputs": [],
   "source": []
  },
  {
   "cell_type": "code",
   "execution_count": null,
   "metadata": {},
   "outputs": [],
   "source": []
  }
 ],
 "metadata": {
  "kernelspec": {
   "display_name": "ArcGISPro",
   "language": "Python",
   "name": "python3"
  },
  "language_info": {
   "file_extension": ".py",
   "name": "python",
   "version": "3"
  }
 },
 "nbformat": 4,
 "nbformat_minor": 2
}
